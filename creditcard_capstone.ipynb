{
 "cells": [
  {
   "cell_type": "code",
   "execution_count": null,
   "metadata": {},
   "outputs": [],
   "source": [
    "# todos:\n",
    "# will turn each cell into formulas in a class\n",
    "# each formula should be an option for user to choose\n",
    "# create exe of console application\n",
    "#   if enough time and not lazy create a simple web interface running from local dir\n",
    "#       but most likely will be lazy :)"
   ]
  },
  {
   "cell_type": "code",
   "execution_count": 2,
   "metadata": {},
   "outputs": [],
   "source": [
    "import pyspark, json\n",
    "from pyspark.sql import SparkSession\n",
    "from pyspark.sql.functions import col, concat, concat_ws, lit, substring, initcap, lower, regexp_replace, to_timestamp\n",
    "from pyspark.sql.types import StringType"
   ]
  },
  {
   "cell_type": "code",
   "execution_count": 3,
   "metadata": {},
   "outputs": [
    {
     "name": "stdout",
     "output_type": "stream",
     "text": [
      "+------+----------------+------------+-------------+--------------------+----------+----------+--------+----------+---------+--------------------+-----------+---------+-----------------+\n",
      "|APT_NO|  CREDIT_CARD_NO|   CUST_CITY| CUST_COUNTRY|          CUST_EMAIL|CUST_PHONE|CUST_STATE|CUST_ZIP|FIRST_NAME|LAST_NAME|        LAST_UPDATED|MIDDLE_NAME|      SSN|      STREET_NAME|\n",
      "+------+----------------+------------+-------------+--------------------+----------+----------+--------+----------+---------+--------------------+-----------+---------+-----------------+\n",
      "|   656|4210653310061055|     Natchez|United States| AHooper@example.com|   1237818|        MS|   39120|      Alec|   Hooper|2018-04-21T12:49:...|         Wm|123456100|Main Street North|\n",
      "|   829|4210653310102868|Wethersfield|United States| EHolman@example.com|   1238933|        CT|   06109|      Etta|   Holman|2018-04-21T12:49:...|    Brendan|123453023|    Redwood Drive|\n",
      "|   683|4210653310116272|     Huntley|United States| WDunham@example.com|   1243018|        IL|   60142|    Wilber|   Dunham|2018-04-21T12:49:...|   Ezequiel|123454487| 12th Street East|\n",
      "|   253|4210653310195948|   NewBerlin|United States|  EHardy@example.com|   1243215|        WI|   53151|   Eugenio|    Hardy|2018-04-21T12:49:...|      Trina|123459758|Country Club Road|\n",
      "|   301|4210653310356919|      ElPaso|United States|  WAyers@example.com|   1242074|        TX|   79930|   Wilfred|    Ayers|2018-04-21T12:49:...|        May|123454431|   Madison Street|\n",
      "|     3|4210653310395982|NorthOlmsted|United States|BWoodard@example.com|   1242570|        OH|   44070|      Beau|  Woodard|2018-04-21T12:49:...|    Ambrose|123454202|   Colonial Drive|\n",
      "|    84|4210653310400536|      Vienna|United States|   SKemp@example.com|   1239685|        VA|   22180|    Sheila|     Kemp|2018-04-21T12:49:...|      Larry|123451799|   Belmont Avenue|\n",
      "|   728|4210653310459911|      Duarte|United States| WHurley@example.com|   1238213|        CA|   91010|     Wendy|   Hurley|2018-04-21T12:49:...|        Ora|123453875|     Oxford Court|\n",
      "|    81|4210653310773972|      Owosso|United States|AGilmore@example.com|   1240689|        MI|   48867|      Alec|  Gilmore|2018-04-21T12:49:...|     Tracie|123457511|    Forest Street|\n",
      "|   561|4210653310794854|        Zion|United States|    BLau@example.com|   1235222|        IL|   60099|    Barbra|      Lau|2018-04-21T12:49:...|    Mitchel|123457464|     Court Street|\n",
      "|   622|4210653310817373|  Youngstown|United States|EThomson@example.com|   1241363|        OH|   44512|   Edmundo|  Thomson|2018-04-21T12:49:...|      Denny|123457639|    Cypress Court|\n",
      "|   924|4210653310844617| Summerville|United States| ETruong@example.com|   1236228|        SC|   29483|      Elsa|   Truong|2018-04-21T12:49:...|   Isabelle|123453242|  8th Street West|\n",
      "|   611|4210653311015303|      ElPaso|United States|HMckinney@example...|   1238165|        TX|   79930|     Homer| Mckinney|2018-04-21T12:49:...|      Henry|123454339|      East Avenue|\n",
      "|   680|4210653311215039|      Fenton|United States|   RKidd@example.com|   1234730|        MI|   48430|      Rita|     Kidd|2018-04-21T12:49:...|     Rickey|123454537|         Route 44|\n",
      "|    71|4210653311229354|  Grandville|United States|ABallard@example.com|   1242113|        MI|   49418|    Amalia|  Ballard|2018-04-21T12:49:...|  Heriberto|123452373|    Warren Street|\n",
      "|   195|4210653311652836|    YubaCity|United States| PThomas@example.com|   1239888|        CA|   95993|     Patty|   Thomas|2018-04-21T12:49:...|   Angelita|123455343|     Jones Street|\n",
      "|   500|4210653311707126|   CapeCoral|United States| JMorrow@example.com|   1240158|        FL|   33904|  Josefina|   Morrow|2018-04-21T12:49:...|   Dorothea|123451533|       New Street|\n",
      "|   989|4210653311730764|  Brookfield|United States|NAndrews@example.com|   1241408|        WI|   53045|    Nelson|  Andrews|2018-04-21T12:49:...|  Jefferson|123459278|  Division Street|\n",
      "|   810|4210653311898082|    Richmond|United States|MSchneider@exampl...|   1238390|        VA|   23223|    Miquel|Schneider|2018-04-21T12:49:...|     Maximo|123456915|     Maple Street|\n",
      "|   649|4210653312021765| WestChester|United States|PTidwell@example.com|   1235067|        PA|   19380|    Parker|  Tidwell|2018-04-21T12:49:...|    Arnulfo|123453807|       Eagle Road|\n",
      "+------+----------------+------------+-------------+--------------------+----------+----------+--------+----------+---------+--------------------+-----------+---------+-----------------+\n",
      "only showing top 20 rows\n",
      "\n"
     ]
    }
   ],
   "source": [
    "spark = SparkSession.builder.appName('capstonedemo').getOrCreate()\n",
    "branchdf = spark.read.json(\"cdw_sapp_branch.json\")\n",
    "creditdf = spark.read.json(\"cdw_sapp_credit.json\")\n",
    "customerdf = spark.read.json(\"cdw_sapp_customer.json\")\n",
    "\n",
    "customerdf.show()"
   ]
  },
  {
   "cell_type": "code",
   "execution_count": 4,
   "metadata": {},
   "outputs": [
    {
     "name": "stdout",
     "output_type": "stream",
     "text": [
      "+----------+-----------+---------+---------+----------------+--------------------+------------+----------+-------------+--------+--------------+--------------------+-------------------+\n",
      "|FIRST_NAME|MIDDLE_NAME|LAST_NAME|      SSN|  Credit_card_no| FULL_STREET_ADDRESS|   CUST_CITY|CUST_STATE| CUST_COUNTRY|CUST_ZIP|    CUST_PHONE|          CUST_EMAIL|       LAST_UPDATED|\n",
      "+----------+-----------+---------+---------+----------------+--------------------+------------+----------+-------------+--------+--------------+--------------------+-------------------+\n",
      "|      Alec|         wm|   Hooper|123456100|4210653310061055|Main Street North...|     Natchez|        MS|United States|   39120|(555) 123-7818| AHooper@example.com|2018-04-21 12:49:02|\n",
      "|      Etta|    brendan|   Holman|123453023|4210653310102868|  Redwood Drive, 829|Wethersfield|        CT|United States|   06109|(555) 123-8933| EHolman@example.com|2018-04-21 12:49:02|\n",
      "|    Wilber|   ezequiel|   Dunham|123454487|4210653310116272|12th Street East,...|     Huntley|        IL|United States|   60142|(555) 124-3018| WDunham@example.com|2018-04-21 12:49:02|\n",
      "|   Eugenio|      trina|    Hardy|123459758|4210653310195948|Country Club Road...|   NewBerlin|        WI|United States|   53151|(555) 124-3215|  EHardy@example.com|2018-04-21 12:49:02|\n",
      "|   Wilfred|        may|    Ayers|123454431|4210653310356919| Madison Street, 301|      ElPaso|        TX|United States|   79930|(555) 124-2074|  WAyers@example.com|2018-04-21 12:49:02|\n",
      "|      Beau|    ambrose|  Woodard|123454202|4210653310395982|   Colonial Drive, 3|NorthOlmsted|        OH|United States|   44070|(555) 124-2570|BWoodard@example.com|2018-04-21 12:49:02|\n",
      "|    Sheila|      larry|     Kemp|123451799|4210653310400536|  Belmont Avenue, 84|      Vienna|        VA|United States|   22180|(555) 123-9685|   SKemp@example.com|2018-04-21 12:49:02|\n",
      "|     Wendy|        ora|   Hurley|123453875|4210653310459911|   Oxford Court, 728|      Duarte|        CA|United States|   91010|(555) 123-8213| WHurley@example.com|2018-04-21 12:49:02|\n",
      "|      Alec|     tracie|  Gilmore|123457511|4210653310773972|   Forest Street, 81|      Owosso|        MI|United States|   48867|(555) 124-0689|AGilmore@example.com|2018-04-21 12:49:02|\n",
      "|    Barbra|    mitchel|      Lau|123457464|4210653310794854|   Court Street, 561|        Zion|        IL|United States|   60099|(555) 123-5222|    BLau@example.com|2018-04-21 12:49:02|\n",
      "|   Edmundo|      denny|  Thomson|123457639|4210653310817373|  Cypress Court, 622|  Youngstown|        OH|United States|   44512|(555) 124-1363|EThomson@example.com|2018-04-21 12:49:02|\n",
      "|      Elsa|   isabelle|   Truong|123453242|4210653310844617|8th Street West, 924| Summerville|        SC|United States|   29483|(555) 123-6228| ETruong@example.com|2018-04-21 12:49:02|\n",
      "|     Homer|      henry| Mckinney|123454339|4210653311015303|    East Avenue, 611|      ElPaso|        TX|United States|   79930|(555) 123-8165|HMckinney@example...|2018-04-21 12:49:02|\n",
      "|      Rita|     rickey|     Kidd|123454537|4210653311215039|       Route 44, 680|      Fenton|        MI|United States|   48430|(555) 123-4730|   RKidd@example.com|2018-04-21 12:49:02|\n",
      "|    Amalia|  heriberto|  Ballard|123452373|4210653311229354|   Warren Street, 71|  Grandville|        MI|United States|   49418|(555) 124-2113|ABallard@example.com|2018-04-21 12:49:02|\n",
      "|     Patty|   angelita|   Thomas|123455343|4210653311652836|   Jones Street, 195|    YubaCity|        CA|United States|   95993|(555) 123-9888| PThomas@example.com|2018-04-21 12:49:02|\n",
      "|  Josefina|   dorothea|   Morrow|123451533|4210653311707126|     New Street, 500|   CapeCoral|        FL|United States|   33904|(555) 124-0158| JMorrow@example.com|2018-04-21 12:49:02|\n",
      "|    Nelson|  jefferson|  Andrews|123459278|4210653311730764|Division Street, 989|  Brookfield|        WI|United States|   53045|(555) 124-1408|NAndrews@example.com|2018-04-21 12:49:02|\n",
      "|    Miquel|     maximo|Schneider|123456915|4210653311898082|   Maple Street, 810|    Richmond|        VA|United States|   23223|(555) 123-8390|MSchneider@exampl...|2018-04-21 12:49:02|\n",
      "|    Parker|    arnulfo|  Tidwell|123453807|4210653312021765|     Eagle Road, 649| WestChester|        PA|United States|   19380|(555) 123-5067|PTidwell@example.com|2018-04-21 12:49:02|\n",
      "+----------+-----------+---------+---------+----------------+--------------------+------------+----------+-------------+--------+--------------+--------------------+-------------------+\n",
      "only showing top 20 rows\n",
      "\n"
     ]
    }
   ],
   "source": [
    "# Apply mapping logic to CDW_SAPP_CUSTOMER.JSON\n",
    "\n",
    "customerdf = customerdf.withColumn(\"SSN\", col(\"SSN\").cast(\"int\"))\n",
    "\n",
    "customerdf = customerdf.withColumn(\"FIRST_NAME\", initcap(col(\"FIRST_NAME\")))\n",
    "\n",
    "customerdf = customerdf.withColumn(\"MIDDLE_NAME\", lower(col(\"MIDDLE_NAME\")))\n",
    "\n",
    "customerdf = customerdf.withColumn(\"LAST_NAME\", initcap(col(\"LAST_NAME\")))\n",
    "\n",
    "customerdf = customerdf.withColumnRenamed(\"CREDIT_CARD_NO\", \"Credit_card_no\")\n",
    "\n",
    "# Concatenate STREET_NAME and APT_NO with comma separator\n",
    "customerdf = customerdf.withColumn(\"FULL_STREET_ADDRESS\", concat_ws(\", \", col(\"STREET_NAME\"), col(\"APT_NO\")))\n",
    "\n",
    "# Format the phone number\n",
    "customerdf = customerdf.withColumn(\"CUST_PHONE\", regexp_replace(col(\"CUST_PHONE\"), \n",
    "                                                                r\"(\\d{3})(\\d{4})\", \n",
    "                                                                concat(lit(\"(555)\"), lit(\" \"), substring(col(\"CUST_PHONE\"), 0, 3), lit(\"-\"), substring(col(\"CUST_PHONE\"), 4, 7))))\n",
    "\n",
    "# Convert LAST_UPDATED to TIMESTAMP\n",
    "customerdf = customerdf.withColumn(\"LAST_UPDATED\", to_timestamp(col(\"LAST_UPDATED\"), \"yyyy-MM-dd'T'HH:mm:ss.SSSXXX\"))\n",
    "\n",
    "# Reorder columns to match json file\n",
    "customerdf = customerdf.select(customerdf.FIRST_NAME, customerdf.MIDDLE_NAME, customerdf.LAST_NAME, customerdf.SSN, customerdf.Credit_card_no, \n",
    "                                customerdf.FULL_STREET_ADDRESS, customerdf.CUST_CITY, customerdf.CUST_STATE, customerdf.CUST_COUNTRY,\n",
    "                                customerdf.CUST_ZIP, customerdf.CUST_PHONE, customerdf.CUST_EMAIL, customerdf.LAST_UPDATED)\n",
    "\n",
    "customerdf.show()\n",
    "\n",
    "# Save the transformed customer data to the target table\n",
    "customerdf.write.format(\"jdbc\") \\\n",
    "    .option(\"url\", \"jdbc:mysql://localhost:3306/creditcard_capstone\") \\\n",
    "    .option(\"dbtable\", \"credit_card_system\") \\\n",
    "    .mode(\"overwrite\") \\\n",
    "    .option(\"user\", \"root\") \\\n",
    "    .option(\"password\", \"password\") \\\n",
    "    .save()"
   ]
  },
  {
   "cell_type": "code",
   "execution_count": 5,
   "metadata": {},
   "outputs": [
    {
     "name": "stdout",
     "output_type": "stream",
     "text": [
      "+--------------+---+-----+----+----------------+---------+-----------+----------------+-----------------+\n",
      "|TRANSACTION_ID|DAY|MONTH|YEAR|  CREDIT_CARD_NO| CUST_SSN|BRANCH_CODE|TRANSACTION_TYPE|TRANSACTION_VALUE|\n",
      "+--------------+---+-----+----+----------------+---------+-----------+----------------+-----------------+\n",
      "|         17247| 25|    2|2018|4210653319388256|123456747|          7|           Bills|            49.97|\n",
      "|         28251| 23|    2|2018|4210653369179447|123454532|         47|         Grocery|            24.41|\n",
      "|         12717| 23|    2|2018|4210653335163700|123457514|         17|      Healthcare|            99.85|\n",
      "|         17202| 23|    2|2018|4210653319388256|123456747|        192|       Education|            75.57|\n",
      "|         17222| 22|    2|2018|4210653319388256|123456747|        100|       Education|            92.77|\n",
      "|         17261| 22|    2|2018|4210653319388256|123456747|         36|             Gas|            91.07|\n",
      "|         19302| 22|    2|2018|4210653337454274|123456322|         67|            Test|            63.44|\n",
      "|         17243| 21|    2|2018|4210653319388256|123456747|        114|      Healthcare|            94.44|\n",
      "|         19317| 20|    2|2018|4210653337454274|123456322|        117|           Bills|            94.98|\n",
      "|         17220| 16|    2|2018|4210653319388256|123456747|         93|   Entertainment|             6.07|\n",
      "|         28246| 15|    2|2018|4210653369179447|123454532|         79|      Healthcare|            49.99|\n",
      "|         17270| 15|    2|2018|4210653319388256|123456747|         44|      Healthcare|             92.0|\n",
      "|         19290| 14|    2|2018|4210653337454274|123456322|        111|             Gas|           100.21|\n",
      "|         19351| 14|    2|2018|4210653337454274|123456322|        180|         Grocery|            17.28|\n",
      "|         12688| 12|    2|2018|4210653335163700|123457514|        173|           Bills|            51.67|\n",
      "|         12704| 12|    2|2018|4210653335163700|123457514|        173|            Test|             6.82|\n",
      "|         17290| 12|    2|2018|4210653319388256|123456747|        109|         Grocery|            13.99|\n",
      "|         10854| 10|    2|2018|4210653315439830|123457867|         29|       Education|            34.65|\n",
      "|         16379|  8|    2|2018|4210653311898082|123456915|         15|            Test|            45.68|\n",
      "|         10847|  5|    2|2018|4210653315439830|123457867|         93|            Test|            16.56|\n",
      "+--------------+---+-----+----+----------------+---------+-----------+----------------+-----------------+\n",
      "only showing top 20 rows\n",
      "\n"
     ]
    }
   ],
   "source": [
    "creditdf.createOrReplaceTempView(\"transactions\")\n",
    "customerdf.createOrReplaceTempView(\"customers\")\n",
    "\n",
    "input_zip_code = input(\"Enter zip code: \")  #23223\n",
    "input_month = int(input(\"Enter month: \"))   #2\n",
    "input_year = int(input(\"Enter year: \"))     #2018\n",
    "\n",
    "# Query to filter transactions by zip code, month, and year, ordered by day in descending order\n",
    "query = \"\"\"\n",
    "SELECT t.* \n",
    "FROM transactions t\n",
    "JOIN customers c ON t.CREDIT_CARD_NO = c.CREDIT_CARD_NO\n",
    "WHERE c.CUST_ZIP = '{}' AND t.MONTH = {} AND t.YEAR = {}\n",
    "ORDER BY t.DAY DESC\n",
    "\"\"\".format(input_zip_code, input_month, input_year)\n",
    "\n",
    "result = spark.sql(query).select(creditdf.TRANSACTION_ID, creditdf.DAY, creditdf.MONTH, creditdf.YEAR, creditdf.CREDIT_CARD_NO, \n",
    "                                 creditdf.CUST_SSN, creditdf.BRANCH_CODE, creditdf.TRANSACTION_TYPE, creditdf.TRANSACTION_VALUE)\n",
    "\n",
    "result.show()"
   ]
  },
  {
   "cell_type": "code",
   "execution_count": 6,
   "metadata": {},
   "outputs": [
    {
     "name": "stdout",
     "output_type": "stream",
     "text": [
      "+----------------+-----------------+-----------------+\n",
      "|TRANSACTION_TYPE|TRANSACTION_COUNT|      TOTAL_VALUE|\n",
      "+----------------+-----------------+-----------------+\n",
      "|         Grocery|             6549|337051.6299999992|\n",
      "+----------------+-----------------+-----------------+\n",
      "\n"
     ]
    }
   ],
   "source": [
    "transaction_type = input(\"Enter transaction type: \").title()    #grocery\n",
    "\n",
    "# Query to count how many transaction and calculate total value of transactions by type\n",
    "query = \"\"\"\n",
    "SELECT TRANSACTION_TYPE, COUNT(*) AS TRANSACTION_COUNT, SUM(TRANSACTION_VALUE) AS TOTAL_VALUE\n",
    "FROM transactions\n",
    "WHERE TRANSACTION_TYPE = '{}'\n",
    "GROUP BY TRANSACTION_TYPE\n",
    "\"\"\".format(transaction_type)\n",
    "\n",
    "result = spark.sql(query)\n",
    "\n",
    "result.show()"
   ]
  },
  {
   "cell_type": "code",
   "execution_count": 7,
   "metadata": {},
   "outputs": [
    {
     "name": "stdout",
     "output_type": "stream",
     "text": [
      "+-----------+------------+------------------+------------------+\n",
      "|BRANCH_CODE| BRANCH_NAME|       total_value|total_transactions|\n",
      "+-----------+------------+------------------+------------------+\n",
      "|         66|Example Bank|21723.449999999997|               412|\n",
      "|        160|Example Bank|20257.590000000004|               400|\n",
      "|          8|Example Bank|          21809.74|               431|\n",
      "|         93|Example Bank|21698.670000000013|               416|\n",
      "|        178|Example Bank|18968.330000000005|               398|\n",
      "|        175|Example Bank|20524.619999999995|               393|\n",
      "|         16|Example Bank|22766.419999999987|               434|\n",
      "|        135|Example Bank|20710.990000000005|               383|\n",
      "|         46|Example Bank| 23507.65999999999|               445|\n",
      "|          3|Example Bank|          21749.91|               431|\n",
      "+-----------+------------+------------------+------------------+\n",
      "\n"
     ]
    }
   ],
   "source": [
    "branchdf.createOrReplaceTempView(\"branches\")\n",
    "\n",
    "state = input(\"Enter state abbreviation: \").upper() #ny\n",
    "\n",
    "# Query to count the number and calculate the total value of transactions by branch and state\n",
    "query = \"\"\"\n",
    "SELECT b.BRANCH_CODE, b.BRANCH_NAME, SUM(t.TRANSACTION_VALUE) AS total_value, COUNT(*) AS total_transactions\n",
    "FROM branches b\n",
    "JOIN transactions t ON b.BRANCH_CODE = t.BRANCH_CODE\n",
    "WHERE b.BRANCH_STATE = '{}'\n",
    "GROUP BY b.BRANCH_CODE, b.BRANCH_NAME\n",
    "\"\"\".format(state)\n",
    "\n",
    "result = spark.sql(query)\n",
    "\n",
    "result.show()"
   ]
  },
  {
   "cell_type": "code",
   "execution_count": 8,
   "metadata": {},
   "outputs": [
    {
     "name": "stdout",
     "output_type": "stream",
     "text": [
      "+----------+-----------+---------+---------+----------------+-------------------+------------+----------+-------------+--------+--------------+-------------------+-------------------+\n",
      "|FIRST_NAME|MIDDLE_NAME|LAST_NAME|      SSN|  Credit_card_no|FULL_STREET_ADDRESS|   CUST_CITY|CUST_STATE| CUST_COUNTRY|CUST_ZIP|    CUST_PHONE|         CUST_EMAIL|       LAST_UPDATED|\n",
      "+----------+-----------+---------+---------+----------------+-------------------+------------+----------+-------------+--------+--------------+-------------------+-------------------+\n",
      "|    Amalia|        hal|   Campos|123459988|4210653349028689|  Valley Drive, 774|Harleysville|        PA|United States|   19438|(555) 123-6163|ACampos@example.com|2018-04-21 12:49:02|\n",
      "+----------+-----------+---------+---------+----------------+-------------------+------------+----------+-------------+--------+--------------+-------------------+-------------------+\n",
      "\n"
     ]
    }
   ],
   "source": [
    "ssn = int(input(\"Enter SSN: \")) #123459988\n",
    "\n",
    "# Query for customer\n",
    "query = \"\"\"\n",
    "SELECT *\n",
    "FROM customers\n",
    "WHERE SSN = {}\n",
    "\"\"\".format(ssn)\n",
    "\n",
    "result = spark.sql(query)\n",
    "result.show()"
   ]
  },
  {
   "cell_type": "code",
   "execution_count": 19,
   "metadata": {},
   "outputs": [
    {
     "name": "stdout",
     "output_type": "stream",
     "text": [
      "Customer details updated and saved to the JSON file.\n"
     ]
    }
   ],
   "source": [
    "# input code to give option to modify customer details or not\n",
    "# if yes\n",
    "\n",
    "# will ask for inputs for new details but currently testing with hardcode\n",
    "updated_first_name = \"Jane\"\n",
    "updated_middle_name = \"Doe\"\n",
    "updated_last_name = \"Smith\"\n",
    "updated_apt_no = \"123\"\n",
    "updated_street_name = \"Main Street\"\n",
    "updated_cust_city = \"New York\"\n",
    "updated_cust_state = \"NY\"\n",
    "updated_cust_zip = 10001\n",
    "updated_cust_phone = \"555-1234\"\n",
    "updated_cust_email = \"JSmith@example.com\"\n",
    "\n",
    "'''\n",
    "original data\n",
    "\n",
    "+----------+-----------+---------+---------+----------------+-------------------+------------+----------+-------------+--------+--------------+-------------------+-------------------+\n",
    "|FIRST_NAME|MIDDLE_NAME|LAST_NAME|      SSN|  Credit_card_no|FULL_STREET_ADDRESS|   CUST_CITY|CUST_STATE| CUST_COUNTRY|CUST_ZIP|    CUST_PHONE|         CUST_EMAIL|       LAST_UPDATED|\n",
    "+----------+-----------+---------+---------+----------------+-------------------+------------+----------+-------------+--------+--------------+-------------------+-------------------+\n",
    "|    Amalia|        hal|   Campos|123459988|4210653349028689|  Valley Drive, 774|Harleysville|        PA|United States|   19438|(555) 123-6163|ACampos@example.com|2018-04-21 12:49:02|\n",
    "+----------+-----------+---------+---------+----------------+-------------------+------------+----------+-------------+--------+--------------+-------------------+-------------------+\n",
    "'''\n",
    "\n",
    "# Read the JSON file\n",
    "with open(\"cdw_sapp_customer.json\", \"r\") as file:\n",
    "    customers_json = [json.loads(line) for line in file]\n",
    "\n",
    "# Find the customer with the specified SSN and update their details\n",
    "for customer in customers_json:\n",
    "    if customer[\"SSN\"] == ssn:\n",
    "        # Update the fields that have changed\n",
    "        if updated_first_name != \"\":\n",
    "            customer[\"FIRST_NAME\"] = updated_first_name\n",
    "        if updated_middle_name != \"\":\n",
    "            customer[\"MIDDLE_NAME\"] = updated_middle_name\n",
    "        if updated_last_name != \"\":\n",
    "            customer[\"LAST_NAME\"] = updated_last_name\n",
    "        if updated_apt_no != \"\":\n",
    "            customer[\"APT_NO\"] = updated_apt_no\n",
    "        if updated_street_name != \"\":\n",
    "            customer[\"STREET_NAME\"] = updated_street_name\n",
    "        if updated_cust_city != \"\":\n",
    "            customer[\"CUST_CITY\"] = updated_cust_city\n",
    "        if updated_cust_state != \"\":\n",
    "            customer[\"CUST_STATE\"] = updated_cust_state\n",
    "        if updated_cust_zip != \"\":\n",
    "            customer[\"CUST_ZIP\"] = updated_cust_zip\n",
    "        if updated_cust_phone != \"\":\n",
    "            customer[\"CUST_PHONE\"] = updated_cust_phone\n",
    "        if updated_cust_email != \"\":\n",
    "            customer[\"CUST_EMAIL\"] = updated_cust_email\n",
    "        break\n",
    "\n",
    "# Write the updated customer data back to the JSON file\n",
    "with open(\"cdw_sapp_customer.json\", \"w\") as file:\n",
    "    for customer in customers_json:\n",
    "        json.dump(customer, file)\n",
    "        file.write(\"\\n\")\n",
    "\n",
    "\n",
    "# Run mapping cell again to update SQL\n",
    "\n",
    "\n",
    "print(\"Customer details updated and saved.\")\n"
   ]
  },
  {
   "cell_type": "code",
   "execution_count": 9,
   "metadata": {},
   "outputs": [
    {
     "name": "stdout",
     "output_type": "stream",
     "text": [
      "+----+-----+---+----------------+-----------------+\n",
      "|YEAR|MONTH|DAY|TRANSACTION_TYPE|TRANSACTION_VALUE|\n",
      "+----+-----+---+----------------+-----------------+\n",
      "|2018|    6|  7|         Grocery|            42.57|\n",
      "|2018|    6| 11|            Test|            26.96|\n",
      "|2018|    6| 19|   Entertainment|            81.94|\n",
      "|2018|    6|  2|            Test|            86.14|\n",
      "+----+-----+---+----------------+-----------------+\n",
      "\n",
      "Payment Due: 237.61\n"
     ]
    }
   ],
   "source": [
    "credit_card_number = \"4210653310061055\" #based on person\n",
    "\n",
    "input_month = int(input(\"Enter month: \"))   #6\n",
    "input_year = int(input(\"Enter year: \"))     #2018\n",
    "\n",
    "# Filter credit based on credit card number, month, and year\n",
    "filtered_df = creditdf.filter((creditdf[\"CREDIT_CARD_NO\"] == credit_card_number) &\n",
    "                        (creditdf[\"MONTH\"] == input_month) &\n",
    "                        (creditdf[\"YEAR\"] == input_year))\\\n",
    "                            .select(creditdf.YEAR, creditdf.MONTH, creditdf.DAY, \n",
    "                                    creditdf.TRANSACTION_TYPE, creditdf.TRANSACTION_VALUE)\n",
    "\n",
    "filtered_df.show()\n",
    "\n",
    "# Calculate the total amount spent\n",
    "total_transaction_value = filtered_df.agg({\"TRANSACTION_VALUE\": \"sum\"}).collect()[0][0]\n",
    "\n",
    "print(\"Payment Due: {}\".format(total_transaction_value))"
   ]
  },
  {
   "cell_type": "code",
   "execution_count": 11,
   "metadata": {},
   "outputs": [
    {
     "name": "stdout",
     "output_type": "stream",
     "text": [
      "+--------------+----+-----+---+----------------+---------+-----------+----------------+-----------------+\n",
      "|TRANSACTION_ID|YEAR|MONTH|DAY|  CREDIT_CARD_NO| CUST_SSN|BRANCH_CODE|TRANSACTION_TYPE|TRANSACTION_VALUE|\n",
      "+--------------+----+-----+---+----------------+---------+-----------+----------------+-----------------+\n",
      "|            92|2018|    8|  3|4210653349028689|123459988|         66|       Education|            58.25|\n",
      "|            18|2018|    7|  4|4210653349028689|123459988|        135|   Entertainment|            88.75|\n",
      "|            93|2018|    7|  2|4210653349028689|123459988|         99|             Gas|            41.06|\n",
      "|            43|2018|    6|  4|4210653349028689|123459988|         79|             Gas|            83.33|\n",
      "|            13|2018|    4|  3|4210653349028689|123459988|         80|         Grocery|            40.24|\n",
      "+--------------+----+-----+---+----------------+---------+-----------+----------------+-----------------+\n",
      "\n"
     ]
    }
   ],
   "source": [
    "start_date = (input(\"Enter start date (YYYY-MM-DD): \")) #2018-04-01\n",
    "end_date = (input(\"Enter end date (YYYY-MM-DD): \"))     #2018-08-04\n",
    "\n",
    "# Check to make sure end_date comes after start_date and follow format\n",
    "\n",
    "# Filter credit based on SSN and date range\n",
    "filtered_df = creditdf.filter((creditdf[\"CUST_SSN\"] == ssn) &\n",
    "                            (creditdf[\"YEAR\"].between(start_date[:4], end_date[:4])) &\n",
    "                            (creditdf[\"MONTH\"].between(start_date[5:7], end_date[5:7])) &\n",
    "                            (creditdf[\"DAY\"].between(start_date[8:], end_date[8:])))\n",
    "\n",
    "# Sort by year, month, and day in descending order\n",
    "sorted_df = filtered_df.orderBy(col(\"YEAR\").desc(), col(\"MONTH\").desc(), col(\"DAY\").desc())\n",
    "\n",
    "sorted_df = sorted_df.select(creditdf.TRANSACTION_ID, creditdf.YEAR, creditdf.MONTH, creditdf.DAY,\n",
    "                             creditdf.CREDIT_CARD_NO, creditdf.CUST_SSN, creditdf.BRANCH_CODE,\n",
    "                             creditdf.TRANSACTION_TYPE, creditdf.TRANSACTION_VALUE)\n",
    "\n",
    "sorted_df.show()\n"
   ]
  },
  {
   "cell_type": "code",
   "execution_count": null,
   "metadata": {},
   "outputs": [],
   "source": []
  }
 ],
 "metadata": {
  "kernelspec": {
   "display_name": "Python 3",
   "language": "python",
   "name": "python3"
  },
  "language_info": {
   "codemirror_mode": {
    "name": "ipython",
    "version": 3
   },
   "file_extension": ".py",
   "mimetype": "text/x-python",
   "name": "python",
   "nbconvert_exporter": "python",
   "pygments_lexer": "ipython3",
   "version": "3.10.0b3"
  },
  "orig_nbformat": 4
 },
 "nbformat": 4,
 "nbformat_minor": 2
}
